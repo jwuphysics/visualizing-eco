{
 "cells": [
  {
   "cell_type": "markdown",
   "metadata": {},
   "source": [
    "# Predicting galaxy properties\n",
    "\n",
    "Given photometry of a galaxy, can we estimate its morphology? Or given its morphology, can we estimate its local density (environmental parameter)?"
   ]
  },
  {
   "cell_type": "code",
   "execution_count": 1,
   "metadata": {
    "collapsed": false,
    "scrolled": false
   },
   "outputs": [],
   "source": [
    "import matplotlib\n",
    "import matplotlib.colors as colors\n",
    "import matplotlib.pyplot as plt\n",
    "from mpl_toolkits.axes_grid1 import make_axes_locatable\n",
    "import numpy as np\n",
    "import os\n",
    "import pandas as pd\n",
    "from scipy.interpolate import griddata\n",
    "import tensorflow as tf\n",
    "import tflearn\n",
    "\n",
    "root_dir = os.path.abspath(os.path.join(os.getcwd(), '..'))\n",
    "\n",
    "%matplotlib inline"
   ]
  },
  {
   "cell_type": "code",
   "execution_count": 2,
   "metadata": {
    "collapsed": false
   },
   "outputs": [
    {
     "data": {
      "text/html": [
       "<div>\n",
       "<style>\n",
       "    .dataframe thead tr:only-child th {\n",
       "        text-align: right;\n",
       "    }\n",
       "\n",
       "    .dataframe thead th {\n",
       "        text-align: left;\n",
       "    }\n",
       "\n",
       "    .dataframe tbody tr th {\n",
       "        vertical-align: top;\n",
       "    }\n",
       "</style>\n",
       "<table border=\"1\" class=\"dataframe\">\n",
       "  <thead>\n",
       "    <tr style=\"text-align: right;\">\n",
       "      <th></th>\n",
       "      <th>RAdeg</th>\n",
       "      <th>DEdeg</th>\n",
       "      <th>cz</th>\n",
       "      <th>rMag</th>\n",
       "      <th>logM</th>\n",
       "      <th>u-r</th>\n",
       "      <th>u-J</th>\n",
       "      <th>R50</th>\n",
       "      <th>R90</th>\n",
       "      <th>M</th>\n",
       "      <th>...</th>\n",
       "      <th>Grp</th>\n",
       "      <th>Grpcz</th>\n",
       "      <th>FC</th>\n",
       "      <th>logMh</th>\n",
       "      <th>Den</th>\n",
       "      <th>FA</th>\n",
       "      <th>FHI</th>\n",
       "      <th>FG</th>\n",
       "      <th>CCr</th>\n",
       "      <th>CCb</th>\n",
       "    </tr>\n",
       "  </thead>\n",
       "  <tbody>\n",
       "    <tr>\n",
       "      <th>ECO12079</th>\n",
       "      <td>130.065</td>\n",
       "      <td>23.375</td>\n",
       "      <td>7230.9</td>\n",
       "      <td>-18.80</td>\n",
       "      <td>8.91</td>\n",
       "      <td>0.88</td>\n",
       "      <td>2.06</td>\n",
       "      <td>3.5</td>\n",
       "      <td>8.9</td>\n",
       "      <td>L</td>\n",
       "      <td>...</td>\n",
       "      <td>8480</td>\n",
       "      <td>7230.9</td>\n",
       "      <td>1</td>\n",
       "      <td>11.02</td>\n",
       "      <td>0.19</td>\n",
       "      <td>0</td>\n",
       "      <td>1</td>\n",
       "      <td>0</td>\n",
       "      <td>1.14</td>\n",
       "      <td>1.0</td>\n",
       "    </tr>\n",
       "    <tr>\n",
       "      <th>ECO02120</th>\n",
       "      <td>130.095</td>\n",
       "      <td>23.539</td>\n",
       "      <td>3534.8</td>\n",
       "      <td>-20.82</td>\n",
       "      <td>10.23</td>\n",
       "      <td>1.31</td>\n",
       "      <td>3.31</td>\n",
       "      <td>16.2</td>\n",
       "      <td>34.2</td>\n",
       "      <td>L</td>\n",
       "      <td>...</td>\n",
       "      <td>1918</td>\n",
       "      <td>3534.8</td>\n",
       "      <td>1</td>\n",
       "      <td>11.63</td>\n",
       "      <td>0.24</td>\n",
       "      <td>0</td>\n",
       "      <td>1</td>\n",
       "      <td>0</td>\n",
       "      <td>1.07</td>\n",
       "      <td>1.0</td>\n",
       "    </tr>\n",
       "    <tr>\n",
       "      <th>ECO08137</th>\n",
       "      <td>130.106</td>\n",
       "      <td>18.316</td>\n",
       "      <td>4373.9</td>\n",
       "      <td>-17.87</td>\n",
       "      <td>8.95</td>\n",
       "      <td>1.84</td>\n",
       "      <td>3.42</td>\n",
       "      <td>4.1</td>\n",
       "      <td>13.6</td>\n",
       "      <td>E</td>\n",
       "      <td>...</td>\n",
       "      <td>5958</td>\n",
       "      <td>4373.9</td>\n",
       "      <td>1</td>\n",
       "      <td>10.84</td>\n",
       "      <td>0.67</td>\n",
       "      <td>0</td>\n",
       "      <td>1</td>\n",
       "      <td>0</td>\n",
       "      <td>1.15</td>\n",
       "      <td>1.0</td>\n",
       "    </tr>\n",
       "    <tr>\n",
       "      <th>ECO00569</th>\n",
       "      <td>130.113</td>\n",
       "      <td>18.574</td>\n",
       "      <td>4491.7</td>\n",
       "      <td>-18.03</td>\n",
       "      <td>8.81</td>\n",
       "      <td>0.76</td>\n",
       "      <td>1.97</td>\n",
       "      <td>12.0</td>\n",
       "      <td>30.7</td>\n",
       "      <td>L</td>\n",
       "      <td>...</td>\n",
       "      <td>552</td>\n",
       "      <td>4491.7</td>\n",
       "      <td>1</td>\n",
       "      <td>10.87</td>\n",
       "      <td>0.74</td>\n",
       "      <td>0</td>\n",
       "      <td>1</td>\n",
       "      <td>0</td>\n",
       "      <td>1.15</td>\n",
       "      <td>1.0</td>\n",
       "    </tr>\n",
       "    <tr>\n",
       "      <th>ECO10139</th>\n",
       "      <td>130.126</td>\n",
       "      <td>27.631</td>\n",
       "      <td>6151.0</td>\n",
       "      <td>-18.99</td>\n",
       "      <td>9.23</td>\n",
       "      <td>1.18</td>\n",
       "      <td>2.30</td>\n",
       "      <td>13.4</td>\n",
       "      <td>27.7</td>\n",
       "      <td>L</td>\n",
       "      <td>...</td>\n",
       "      <td>7240</td>\n",
       "      <td>6151.0</td>\n",
       "      <td>1</td>\n",
       "      <td>11.06</td>\n",
       "      <td>0.57</td>\n",
       "      <td>1</td>\n",
       "      <td>2</td>\n",
       "      <td>0</td>\n",
       "      <td>1.10</td>\n",
       "      <td>1.0</td>\n",
       "    </tr>\n",
       "  </tbody>\n",
       "</table>\n",
       "<p>5 rows × 21 columns</p>\n",
       "</div>"
      ],
      "text/plain": [
       "            RAdeg   DEdeg      cz   rMag   logM   u-r   u-J   R50   R90  M  \\\n",
       "ECO12079  130.065  23.375  7230.9 -18.80   8.91  0.88  2.06   3.5   8.9  L   \n",
       "ECO02120  130.095  23.539  3534.8 -20.82  10.23  1.31  3.31  16.2  34.2  L   \n",
       "ECO08137  130.106  18.316  4373.9 -17.87   8.95  1.84  3.42   4.1  13.6  E   \n",
       "ECO00569  130.113  18.574  4491.7 -18.03   8.81  0.76  1.97  12.0  30.7  L   \n",
       "ECO10139  130.126  27.631  6151.0 -18.99   9.23  1.18  2.30  13.4  27.7  L   \n",
       "\n",
       "         ...    Grp   Grpcz  FC  logMh   Den  FA  FHI  FG   CCr  CCb  \n",
       "ECO12079 ...   8480  7230.9   1  11.02  0.19   0    1   0  1.14  1.0  \n",
       "ECO02120 ...   1918  3534.8   1  11.63  0.24   0    1   0  1.07  1.0  \n",
       "ECO08137 ...   5958  4373.9   1  10.84  0.67   0    1   0  1.15  1.0  \n",
       "ECO00569 ...    552  4491.7   1  10.87  0.74   0    1   0  1.15  1.0  \n",
       "ECO10139 ...   7240  6151.0   1  11.06  0.57   1    2   0  1.10  1.0  \n",
       "\n",
       "[5 rows x 21 columns]"
      ]
     },
     "execution_count": 2,
     "metadata": {},
     "output_type": "execute_result"
    }
   ],
   "source": [
    "eco_columns = ['RAdeg', 'DEdeg', 'cz', 'rMag', 'logM', 'u-r', 'u-J', 'R50', 'R90', 'M', 'FM', \n",
    "               'Grp', 'Grpcz', 'FC', 'logMh', 'Den', 'FA', 'FHI', 'FG', 'CCr', 'CCb']\n",
    "\n",
    "df = pd.read_csv(os.path.join(root_dir, 'data', 'eco_dr1.txt'),\n",
    "                 delim_whitespace=True, skiprows=56, index_col=0,\n",
    "                 names=eco_columns)\n",
    "\n",
    "df.head()"
   ]
  },
  {
   "cell_type": "markdown",
   "metadata": {},
   "source": [
    "### Relevant parameters\n",
    "All of these galaxies are pretty nearby, so we don't need to care about things like their positions or redshift. Absolute $r$ magnitude, stellar mass, etc. are useful though."
   ]
  },
  {
   "cell_type": "markdown",
   "metadata": {},
   "source": [
    "Some morphologies aren't correct (\"-\"), and some $u-r$, $u-J$, $R90$ appear to be outliers or missing values.\n",
    "Now we'll visualize the parameter range of everything (except morphology). "
   ]
  },
  {
   "cell_type": "code",
   "execution_count": 79,
   "metadata": {
    "collapsed": false,
    "scrolled": false
   },
   "outputs": [
    {
     "data": {
      "image/png": "[encoded data removed]",
      "text/plain": [
       "<matplotlib.figure.Figure at 0x7f2b75df4890>"
      ]
     },
     "metadata": {},
     "output_type": "display_data"
    }
   ],
   "source": [
    "df = pd.read_csv(os.path.join(root_dir, 'data', 'eco_dr1.txt'),\n",
    "                 delim_whitespace=True, skiprows=56, index_col=0,\n",
    "                 names=eco_columns)\n",
    "\n",
    "\n",
    "features = ['rMag', 'logM', 'u-r', 'u-J', 'R50', 'R90', 'M']\n",
    "df = df[features]\n",
    "\n",
    "# remove unclassified morphologies\n",
    "df = df[df.M != '-']\n",
    "\n",
    "# remove unphysical stuff\n",
    "df = df[(df['u-r'] > -50) & (df['u-J'] > -10) & (df['u-J'] < 10) & (df['R90'] > 0)]\n",
    "\n",
    "# make the sample mass-complete (logM > 8.75)\n",
    "df = df[df['logM'] > 8.75]\n",
    "\n",
    "# change morphology to the mapping 0: \"E\" and 1: \"L\"\n",
    "df['M'] = map(lambda m: 0 if m == 'E' else 1, df['M'])\n",
    "\n",
    "#X = df[features].as_matrix()\n",
    "#y = df[target].as_matrix()[:, np.newaxis]\n",
    "\n",
    "fig, axes = plt.subplots(2, 3, figsize=(8, 4), dpi=120, sharey=True, sharex=False)\n",
    "\n",
    "for i, ax, feat in zip(range(6), axes.flat, features):\n",
    "    ax.hist(df.iloc[:, i], bins=20)\n",
    "    \n",
    "    ax.set_xlabel(feat)\n",
    "    ax.set_yscale('log')\n",
    "    \n",
    "fig.tight_layout(h_pad=0.1, w_pad=0.05)"
   ]
  },
  {
   "cell_type": "markdown",
   "metadata": {},
   "source": [
    "### A simple neural network\n",
    "Let's make a two-layer perceptron using `tflearn` (basically a simplified `tensorflow`). But since I have no idea what will work on my laptop, let's just take 500 random data points. Can we predict morphology from this?"
   ]
  },
  {
   "cell_type": "code",
   "execution_count": 80,
   "metadata": {
    "collapsed": false
   },
   "outputs": [],
   "source": [
    "X = df[['rMag', 'logM', 'u-r', 'u-J', 'R50', 'R90']].as_matrix()\n",
    "y = df[['M']].as_matrix()\n",
    "\n",
    "permutation = np.random.permutation(len(y))\n",
    "\n",
    "X_train = X[permutation][:500]\n",
    "y_train = y[permutation][:500]"
   ]
  },
  {
   "cell_type": "code",
   "execution_count": 81,
   "metadata": {
    "collapsed": false,
    "scrolled": false
   },
   "outputs": [
    {
     "name": "stdout",
     "output_type": "stream",
     "text": [
      "Training Step: 2500  | total loss: \u001b[1m\u001b[32m0.37183\u001b[0m\u001b[0m | time: 0.016s\n",
      "\u001b[2K\r",
      "| SGD | epoch: 500 | loss: 0.37183 - acc: 0.8669 -- iter: 500/500\n"
     ]
    }
   ],
   "source": [
    "ndata, ndim = X_train.shape\n",
    "nclass = 2\n",
    "Y_train = tflearn.data_utils.to_categorical(y_train.flat, nclass)\n",
    "\n",
    "with tf.Graph().as_default():\n",
    "    net = tflearn.input_data([None, ndim])\n",
    "    net = tflearn.fully_connected(net, 32, activation='sigmoid', weights_init='normal',\n",
    "                                  regularizer='L2', weight_decay=0.001)\n",
    "    net = tflearn.fully_connected(net, nclass, activation='sigmoid')\n",
    "    sgd = tflearn.SGD(learning_rate=0.1, lr_decay=0.5, decay_step=500)\n",
    "    net = tflearn.regression(net, optimizer=sgd, loss='categorical_crossentropy')\n",
    "\n",
    "    model = tflearn.DNN(net)\n",
    "    model.fit(X_train, Y_train, show_metric=True, batch_size=100, n_epoch=500, snapshot_epoch=False)"
   ]
  },
  {
   "cell_type": "code",
   "execution_count": 82,
   "metadata": {
    "collapsed": false
   },
   "outputs": [
    {
     "name": "stdout",
     "output_type": "stream",
     "text": [
      "The accuracy of our network is 0.9460\n",
      "The accuracy of random guessing is 0.4854\n"
     ]
    }
   ],
   "source": [
    "X_test = X[permutation][-500:]\n",
    "y_test = y[permutation][-500:]\n",
    "y_res = np.argmax(model.predict(X_test), axis=1)[:, np.newaxis]\n",
    "\n",
    "print('The accuracy of our network is {:.4f}'.format(np.mean(y_res == y_test, dtype=float)))\n",
    "print('The accuracy of random guessing is {:.4f}'.format(np.mean(np.random.randint(0, 2, 500) == y_test, dtype=float)))"
   ]
  },
  {
   "cell_type": "markdown",
   "metadata": {},
   "source": [
    "Well, that was not terrible. Note that I got marginally better results by **lowering the batch size**. Let's try a slightly different network:\n",
    "\n",
    "### A simple but deeper network"
   ]
  },
  {
   "cell_type": "code",
   "execution_count": 83,
   "metadata": {
    "collapsed": false,
    "scrolled": false
   },
   "outputs": [
    {
     "name": "stdout",
     "output_type": "stream",
     "text": [
      "Training Step: 79  | total loss: \u001b[1m\u001b[32m0.63910\u001b[0m\u001b[0m | time: 0.032s\n",
      "| Adam | epoch: 010 | loss: 0.63910 - acc: 0.7302 -- iter: 448/500\n",
      "Training Step: 80  | total loss: \u001b[1m\u001b[32m0.64136\u001b[0m\u001b[0m | time: 0.036s\n",
      "| Adam | epoch: 010 | loss: 0.64136 - acc: 0.7258 -- iter: 500/500\n",
      "--\n",
      "The accuracy of our network is 0.6960\n"
     ]
    }
   ],
   "source": [
    "tf.reset_default_graph() # needed because the namespace gets corrupted each time\n",
    "tflearn.init_graph(num_cores=4)\n",
    "\n",
    "permutation = np.random.permutation(len(y))\n",
    "\n",
    "X_train = X[permutation][:500]\n",
    "y_train = y[permutation][:500]\n",
    "\n",
    "net = tflearn.input_data(shape=[None, ndim])\n",
    "net = tflearn.fully_connected(net, 128)\n",
    "net = tflearn.fully_connected(net, 64)\n",
    "net = tflearn.fully_connected(net, 32)\n",
    "net = tflearn.fully_connected(net, nclass, activation='relu')\n",
    "net = tflearn.regression(net, optimizer='adam', loss='binary_crossentropy')\n",
    "\n",
    "model = tflearn.DNN(net)\n",
    "model.fit(X_train, Y_train, show_metric=True)\n",
    "\n",
    "X_test = X[permutation][-500:]\n",
    "y_test = y[permutation][-500:]\n",
    "y_res = np.argmax(model.predict(X_test), axis=1)[:, np.newaxis]\n",
    "print('The accuracy of our network is {:.4f}'.format(np.mean(y_res == y_test, dtype=float)))"
   ]
  },
  {
   "cell_type": "markdown",
   "metadata": {},
   "source": [
    "It actually seems like our original two layer network was better.\n",
    "\n",
    "### Back to the simple multi-layer perceptron"
   ]
  },
  {
   "cell_type": "code",
   "execution_count": 84,
   "metadata": {
    "collapsed": false
   },
   "outputs": [
    {
     "name": "stdout",
     "output_type": "stream",
     "text": [
      "Training Step: 2500  | total loss: \u001b[1m\u001b[32m0.33839\u001b[0m\u001b[0m | time: 0.011s\n",
      "\u001b[2K\r",
      "| SGD | epoch: 500 | loss: 0.33839 - acc: 0.8839 -- iter: 500/500\n"
     ]
    }
   ],
   "source": [
    "permutation = np.random.permutation(len(y))\n",
    "\n",
    "X_train = X[permutation][:500]\n",
    "y_train = y[permutation][:500]\n",
    "\n",
    "ndata, ndim = X_train.shape\n",
    "nclass = 2\n",
    "Y_train = tflearn.data_utils.to_categorical(y_train.flat, nclass)\n",
    "\n",
    "with tf.Graph().as_default():\n",
    "    net = tflearn.input_data([None, ndim])\n",
    "    net = tflearn.fully_connected(net, 32, activation='sigmoid', weights_init='normal',\n",
    "                                  regularizer='L2', weight_decay=0.001)\n",
    "    net = tflearn.fully_connected(net, nclass, activation='sigmoid')\n",
    "    sgd = tflearn.SGD(learning_rate=0.1, lr_decay=0.5, decay_step=500)\n",
    "    net = tflearn.regression(net, optimizer=sgd, loss='categorical_crossentropy')\n",
    "\n",
    "    model = tflearn.DNN(net)\n",
    "    model.fit(X_train, Y_train, show_metric=True, batch_size=100, n_epoch=500, snapshot_epoch=False)"
   ]
  },
  {
   "cell_type": "code",
   "execution_count": 85,
   "metadata": {
    "collapsed": false
   },
   "outputs": [
    {
     "name": "stdout",
     "output_type": "stream",
     "text": [
      "The accuracy of our network is 0.9340\n"
     ]
    }
   ],
   "source": [
    "X_test = X[permutation][-500:]\n",
    "y_test = y[permutation][-500:]\n",
    "y_res = np.argmax(model.predict(X_test), axis=1)[:, np.newaxis]\n",
    "\n",
    "print('The accuracy of our network is {:.4f}'.format(np.mean(y_res == y_test, dtype=float)))"
   ]
  },
  {
   "cell_type": "markdown",
   "metadata": {},
   "source": [
    "### What about something simpler?\n",
    "\n",
    "Why deep learning? Why not just use a simple decision tree or whatever classifer? They should be less expensive to execute. Let's see how some `scikit-learn` algorithms fare."
   ]
  },
  {
   "cell_type": "code",
   "execution_count": 86,
   "metadata": {
    "collapsed": false
   },
   "outputs": [
    {
     "name": "stdout",
     "output_type": "stream",
     "text": [
      "The accuracy of our Random Forest Classifer is 0.866\n"
     ]
    }
   ],
   "source": [
    "# Random forest\n",
    "from sklearn.ensemble import RandomForestClassifier\n",
    "\n",
    "\n",
    "permutation = np.random.permutation(len(y))\n",
    "ndata, ndim = X_train.shape\n",
    "nclass = 2\n",
    "\n",
    "X_train = X[permutation][:500]\n",
    "y_train = y[permutation][:500]\n",
    "Y_train = tflearn.data_utils.to_categorical(y_train.flat, nclass)\n",
    "\n",
    "clf = RandomForestClassifier(max_depth=4, random_state=256)\n",
    "clf.fit(X_train, Y_train)\n",
    "\n",
    "X_test = X[permutation][-500:]\n",
    "y_test = y[permutation][-500:]\n",
    "y_res = np.argmax(clf.predict(X_test), axis=1)[:, np.newaxis]\n",
    "\n",
    "print('The accuracy of our Random Forest Classifer is {:.3f}'.format(np.mean(y_res == y_test, dtype=float)))"
   ]
  },
  {
   "cell_type": "code",
   "execution_count": 87,
   "metadata": {
    "collapsed": false,
    "scrolled": false
   },
   "outputs": [
    {
     "name": "stdout",
     "output_type": "stream",
     "text": [
      "The accuracy of our Gaussian Process Classifer is 0.2860\n"
     ]
    }
   ],
   "source": [
    "# Gaussian Process\n",
    "from sklearn.gaussian_process import GaussianProcessClassifier\n",
    "from sklearn.gaussian_process.kernels import RBF\n",
    "\n",
    "# let's just use first n=2 features for speed\n",
    "n_dim = 2\n",
    "X_train = X[permutation][:500, :n_dim]\n",
    "y_train = y[permutation][:500, :n_dim]\n",
    "\n",
    "# note that I'm using a k-d radial basis function\n",
    "clf = GaussianProcessClassifier(kernel=RBF(np.ones(n_dim)), multi_class='one_vs_one')\n",
    "clf.fit(X_train, y_train.flat)\n",
    "\n",
    "X_test = X[permutation][-500:, :n_dim]\n",
    "y_test = y[permutation][-500:, :n_dim]\n",
    "y_res = np.argmax(clf.predict(X_test))\n",
    "\n",
    "print('The accuracy of our Gaussian Process Classifer is {:.4f}'.format(np.mean(y_res == y_test, dtype=float)))"
   ]
  },
  {
   "cell_type": "markdown",
   "metadata": {},
   "source": [
    "Alright well that was both expensive and not accurate."
   ]
  },
  {
   "cell_type": "code",
   "execution_count": 90,
   "metadata": {
    "collapsed": false
   },
   "outputs": [
    {
     "name": "stdout",
     "output_type": "stream",
     "text": [
      "Using 3 nearest neighbors, we find 0.844 accuracy.\n",
      "Using 5 nearest neighbors, we find 0.860 accuracy.\n",
      "Using 7 nearest neighbors, we find 0.854 accuracy.\n",
      "Using 9 nearest neighbors, we find 0.844 accuracy.\n"
     ]
    }
   ],
   "source": [
    "# k-nearest neighbors\n",
    "from sklearn.neighbors import KNeighborsClassifier\n",
    "\n",
    "permutation = np.random.permutation(len(y))\n",
    "ndata, ndim = X_train.shape\n",
    "nclass = 2\n",
    "\n",
    "X_train = X[permutation][:500]\n",
    "y_train = y[permutation][:500]\n",
    "Y_train = tflearn.data_utils.to_categorical(y_train.flat, nclass)\n",
    "\n",
    "clf = RandomForestClassifier(max_depth=4, random_state=256)\n",
    "clf.fit(X_train, Y_train)\n",
    "\n",
    "X_test = X[permutation][-500:]\n",
    "y_test = y[permutation][-500:]\n",
    "\n",
    "for nn in 2 * np.arange(1, 5) + 1:    \n",
    "    clf = KNeighborsClassifier(n_neighbors=nn)\n",
    "    clf.fit(X_train, Y_train)\n",
    "    \n",
    "    y_res = np.argmax(clf.predict(X_test), axis=1)[:, np.newaxis]\n",
    "    accuracy = np.mean(y_res == y_test, dtype=float)\n",
    "    \n",
    "    print('Using {:d} nearest neighbors, we find {:.3f} accuracy.'.format(nn, accuracy))    "
   ]
  },
  {
   "cell_type": "markdown",
   "metadata": {},
   "source": [
    "### Regression problems\n",
    "\n",
    "Up til now we've been trying to classify morphology (using a binary system). It might seem dumb to try to guess the optical morphology when you know features such as the stellar mass, $R_{90}$, etc., but still it's an interesting proof of concept. \n",
    "\n",
    "Let's now test `tflearn` and `sklearn` on regression problems -- trying to estimate the local density parameter. This is actually a nice use-case since ECO should be a volume-limited survey. However, it's also a rather small volume of the local universe, so we don't know how such regression algorithms/networks might fare in cluster environments."
   ]
  },
  {
   "cell_type": "code",
   "execution_count": 98,
   "metadata": {
    "collapsed": false
   },
   "outputs": [
    {
     "data": {
      "image/png": "[encoded data removed]",
      "text/plain": [
       "<matplotlib.figure.Figure at 0x7f2b750f4610>"
      ]
     },
     "metadata": {},
     "output_type": "display_data"
    }
   ],
   "source": [
    "df = pd.read_csv(os.path.join(root_dir, 'data', 'eco_dr1.txt'),\n",
    "                 delim_whitespace=True, skiprows=56, index_col=0,\n",
    "                 names=eco_columns)\n",
    "\n",
    "features = ['rMag', 'logM', 'u-r', 'u-J', 'M', 'Den']\n",
    "df = df[features]\n",
    "\n",
    "# remove unclassified morphologies\n",
    "df = df[df.M != '-']\n",
    "\n",
    "# remove unphysical stuff\n",
    "df = df[(df['u-r'] > -50) & (df['u-J'] > -10) & (df['u-J'] < 10) & (df['Den'] > 0)]\n",
    "\n",
    "# make the sample mass-complete (logM > 8.75)\n",
    "df = df[df['logM'] > 8.75]\n",
    "\n",
    "# change morphology to the mapping 0: \"E\" and 1: \"L\"\n",
    "df['M'] = map(lambda m: 0 if m == 'E' else 1, df['M'])\n",
    "\n",
    "# change density to log density\n",
    "df['Den'] = df.Den.apply(lambda x: np.log10(x))\n",
    "\n",
    "fig, axes = plt.subplots(2, 3, figsize=(8, 4), dpi=120, sharey=True, sharex=False)\n",
    "\n",
    "for i, ax, feat in zip(range(6), axes.flat, features):\n",
    "    ax.hist(df.iloc[:, i], bins=20)\n",
    "    \n",
    "    ax.set_xlabel(feat)\n",
    "    ax.set_yscale('log')\n",
    "    \n",
    "fig.tight_layout(h_pad=0.1, w_pad=0.05)"
   ]
  },
  {
   "cell_type": "code",
   "execution_count": 99,
   "metadata": {
    "collapsed": true
   },
   "outputs": [],
   "source": [
    "# setting up matrix of values\n",
    "X = df[['rMag', 'logM', 'u-r', 'u-J', 'M']].as_matrix()\n",
    "y = df[['Den']].as_matrix()\n",
    "\n",
    "permutation = np.random.permutation(len(y))\n",
    "\n",
    "X_train = X[permutation][:500]\n",
    "y_train = y[permutation][:500]"
   ]
  },
  {
   "cell_type": "code",
   "execution_count": null,
   "metadata": {
    "collapsed": false
   },
   "outputs": [
    {
     "name": "stdout",
     "output_type": "stream",
     "text": [
      "Training Step: 6305  | total loss: \u001b[1m\u001b[32m0.16052\u001b[0m\u001b[0m | time: 0.151s\n",
      "\u001b[2K\r",
      "| Adam | epoch: 045 | loss: 0.16052 - R2: 0.1543 -- iter: 3648/9068\n"
     ]
    }
   ],
   "source": [
    "permutation = np.random.permutation(len(y))\n",
    "\n",
    "X_train = X[permutation][:-500]\n",
    "y_train = y[permutation][:-500]\n",
    "\n",
    "ndata, ndim = X_train.shape\n",
    "\n",
    "with tf.Graph().as_default():\n",
    "    net = tflearn.input_data([None, ndim])\n",
    "    net = tflearn.fully_connected(net, 32, activation='sigmoid')\n",
    "    net = tflearn.fully_connected(net, 32, activation = 'sigmoid')\n",
    "    net = tflearn.fully_connected(net, 1, activation = 'linear')\n",
    "    \n",
    "    #sgd = tflearn.SGD(learning_rate=0.1, lr_decay = 0.01, decay_step=100)\n",
    "    net = tflearn.regression(net, optimizer='adam', learning_rate=0.01, loss='mean_square', metric='R2')\n",
    "\n",
    "    model = tflearn.DNN(net, tensorboard_dir='/tmp/tflearn_logs/regression')\n",
    "    model.fit(X_train, y_train, show_metric=True, n_epoch=500, snapshot_epoch=False)"
   ]
  },
  {
   "cell_type": "code",
   "execution_count": 137,
   "metadata": {
    "collapsed": false
   },
   "outputs": [
    {
     "name": "stdout",
     "output_type": "stream",
     "text": [
      "[[ 0.32270634  0.05307844]\n",
      " [ 0.15579817 -0.13667714]\n",
      " [-0.08812222  0.27184161]\n",
      " [-0.11220354 -0.07058107]\n",
      " [-0.08853242  0.07918125]\n",
      " [-0.08684397  0.29446623]\n",
      " [-0.07326284  0.55266822]\n",
      " [-0.08641997 -0.26760624]\n",
      " [-0.11667269 -0.10237291]\n",
      " [ 0.29787463  0.42488164]]\n"
     ]
    }
   ],
   "source": [
    "X_test = X[permutation][-500:]\n",
    "y_test = y[permutation][-500:]\n",
    "y_res = model.predict(X_test)\n",
    "print(np.column_stack((y_res[:10], y_test[:10])))"
   ]
  },
  {
   "cell_type": "code",
   "execution_count": null,
   "metadata": {
    "collapsed": true
   },
   "outputs": [],
   "source": []
  }
 ],
 "metadata": {
  "kernelspec": {
   "display_name": "Python 2",
   "language": "python",
   "name": "python2"
  },
  "language_info": {
   "codemirror_mode": {
    "name": "ipython",
    "version": 2
   },
   "file_extension": ".py",
   "mimetype": "text/x-python",
   "name": "python",
   "nbconvert_exporter": "python",
   "pygments_lexer": "ipython2",
   "version": "2.7.13"
  }
 },
 "nbformat": 4,
 "nbformat_minor": 2
}
