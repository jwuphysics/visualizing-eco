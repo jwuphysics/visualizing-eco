{
 "cells": [
  {
   "cell_type": "markdown",
   "metadata": {},
   "source": [
    "# Predicting galaxy properties\n",
    "\n",
    "Given photometry of a galaxy, can we estimate its morphology? Or given its morphology, can we estimate its local density (environmental parameter)?"
   ]
  },
  {
   "cell_type": "code",
   "execution_count": 1,
   "metadata": {
    "collapsed": false,
    "scrolled": false
   },
   "outputs": [],
   "source": [
    "import matplotlib\n",
    "import matplotlib.colors as colors\n",
    "import matplotlib.pyplot as plt\n",
    "from mpl_toolkits.axes_grid1 import make_axes_locatable\n",
    "import numpy as np\n",
    "import os\n",
    "import pandas as pd\n",
    "from scipy.interpolate import griddata\n",
    "import tensorflow as tf\n",
    "import tflearn\n",
    "\n",
    "root_dir = os.path.abspath(os.path.join(os.getcwd(), '..'))\n",
    "\n",
    "%matplotlib inline"
   ]
  },
  {
   "cell_type": "code",
   "execution_count": 2,
   "metadata": {
    "collapsed": false
   },
   "outputs": [
    {
     "data": {
      "text/html": [
       "<div>\n",
       "<style>\n",
       "    .dataframe thead tr:only-child th {\n",
       "        text-align: right;\n",
       "    }\n",
       "\n",
       "    .dataframe thead th {\n",
       "        text-align: left;\n",
       "    }\n",
       "\n",
       "    .dataframe tbody tr th {\n",
       "        vertical-align: top;\n",
       "    }\n",
       "</style>\n",
       "<table border=\"1\" class=\"dataframe\">\n",
       "  <thead>\n",
       "    <tr style=\"text-align: right;\">\n",
       "      <th></th>\n",
       "      <th>RAdeg</th>\n",
       "      <th>DEdeg</th>\n",
       "      <th>cz</th>\n",
       "      <th>rMag</th>\n",
       "      <th>logM</th>\n",
       "      <th>u-r</th>\n",
       "      <th>u-J</th>\n",
       "      <th>R50</th>\n",
       "      <th>R90</th>\n",
       "      <th>M</th>\n",
       "      <th>...</th>\n",
       "      <th>Grp</th>\n",
       "      <th>Grpcz</th>\n",
       "      <th>FC</th>\n",
       "      <th>logMh</th>\n",
       "      <th>Den</th>\n",
       "      <th>FA</th>\n",
       "      <th>FHI</th>\n",
       "      <th>FG</th>\n",
       "      <th>CCr</th>\n",
       "      <th>CCb</th>\n",
       "    </tr>\n",
       "  </thead>\n",
       "  <tbody>\n",
       "    <tr>\n",
       "      <th>ECO12079</th>\n",
       "      <td>130.065</td>\n",
       "      <td>23.375</td>\n",
       "      <td>7230.9</td>\n",
       "      <td>-18.80</td>\n",
       "      <td>8.91</td>\n",
       "      <td>0.88</td>\n",
       "      <td>2.06</td>\n",
       "      <td>3.5</td>\n",
       "      <td>8.9</td>\n",
       "      <td>L</td>\n",
       "      <td>...</td>\n",
       "      <td>8480</td>\n",
       "      <td>7230.9</td>\n",
       "      <td>1</td>\n",
       "      <td>11.02</td>\n",
       "      <td>0.19</td>\n",
       "      <td>0</td>\n",
       "      <td>1</td>\n",
       "      <td>0</td>\n",
       "      <td>1.14</td>\n",
       "      <td>1.0</td>\n",
       "    </tr>\n",
       "    <tr>\n",
       "      <th>ECO02120</th>\n",
       "      <td>130.095</td>\n",
       "      <td>23.539</td>\n",
       "      <td>3534.8</td>\n",
       "      <td>-20.82</td>\n",
       "      <td>10.23</td>\n",
       "      <td>1.31</td>\n",
       "      <td>3.31</td>\n",
       "      <td>16.2</td>\n",
       "      <td>34.2</td>\n",
       "      <td>L</td>\n",
       "      <td>...</td>\n",
       "      <td>1918</td>\n",
       "      <td>3534.8</td>\n",
       "      <td>1</td>\n",
       "      <td>11.63</td>\n",
       "      <td>0.24</td>\n",
       "      <td>0</td>\n",
       "      <td>1</td>\n",
       "      <td>0</td>\n",
       "      <td>1.07</td>\n",
       "      <td>1.0</td>\n",
       "    </tr>\n",
       "    <tr>\n",
       "      <th>ECO08137</th>\n",
       "      <td>130.106</td>\n",
       "      <td>18.316</td>\n",
       "      <td>4373.9</td>\n",
       "      <td>-17.87</td>\n",
       "      <td>8.95</td>\n",
       "      <td>1.84</td>\n",
       "      <td>3.42</td>\n",
       "      <td>4.1</td>\n",
       "      <td>13.6</td>\n",
       "      <td>E</td>\n",
       "      <td>...</td>\n",
       "      <td>5958</td>\n",
       "      <td>4373.9</td>\n",
       "      <td>1</td>\n",
       "      <td>10.84</td>\n",
       "      <td>0.67</td>\n",
       "      <td>0</td>\n",
       "      <td>1</td>\n",
       "      <td>0</td>\n",
       "      <td>1.15</td>\n",
       "      <td>1.0</td>\n",
       "    </tr>\n",
       "    <tr>\n",
       "      <th>ECO00569</th>\n",
       "      <td>130.113</td>\n",
       "      <td>18.574</td>\n",
       "      <td>4491.7</td>\n",
       "      <td>-18.03</td>\n",
       "      <td>8.81</td>\n",
       "      <td>0.76</td>\n",
       "      <td>1.97</td>\n",
       "      <td>12.0</td>\n",
       "      <td>30.7</td>\n",
       "      <td>L</td>\n",
       "      <td>...</td>\n",
       "      <td>552</td>\n",
       "      <td>4491.7</td>\n",
       "      <td>1</td>\n",
       "      <td>10.87</td>\n",
       "      <td>0.74</td>\n",
       "      <td>0</td>\n",
       "      <td>1</td>\n",
       "      <td>0</td>\n",
       "      <td>1.15</td>\n",
       "      <td>1.0</td>\n",
       "    </tr>\n",
       "    <tr>\n",
       "      <th>ECO10139</th>\n",
       "      <td>130.126</td>\n",
       "      <td>27.631</td>\n",
       "      <td>6151.0</td>\n",
       "      <td>-18.99</td>\n",
       "      <td>9.23</td>\n",
       "      <td>1.18</td>\n",
       "      <td>2.30</td>\n",
       "      <td>13.4</td>\n",
       "      <td>27.7</td>\n",
       "      <td>L</td>\n",
       "      <td>...</td>\n",
       "      <td>7240</td>\n",
       "      <td>6151.0</td>\n",
       "      <td>1</td>\n",
       "      <td>11.06</td>\n",
       "      <td>0.57</td>\n",
       "      <td>1</td>\n",
       "      <td>2</td>\n",
       "      <td>0</td>\n",
       "      <td>1.10</td>\n",
       "      <td>1.0</td>\n",
       "    </tr>\n",
       "  </tbody>\n",
       "</table>\n",
       "<p>5 rows × 21 columns</p>\n",
       "</div>"
      ],
      "text/plain": [
       "            RAdeg   DEdeg      cz   rMag   logM   u-r   u-J   R50   R90  M  \\\n",
       "ECO12079  130.065  23.375  7230.9 -18.80   8.91  0.88  2.06   3.5   8.9  L   \n",
       "ECO02120  130.095  23.539  3534.8 -20.82  10.23  1.31  3.31  16.2  34.2  L   \n",
       "ECO08137  130.106  18.316  4373.9 -17.87   8.95  1.84  3.42   4.1  13.6  E   \n",
       "ECO00569  130.113  18.574  4491.7 -18.03   8.81  0.76  1.97  12.0  30.7  L   \n",
       "ECO10139  130.126  27.631  6151.0 -18.99   9.23  1.18  2.30  13.4  27.7  L   \n",
       "\n",
       "         ...    Grp   Grpcz  FC  logMh   Den  FA  FHI  FG   CCr  CCb  \n",
       "ECO12079 ...   8480  7230.9   1  11.02  0.19   0    1   0  1.14  1.0  \n",
       "ECO02120 ...   1918  3534.8   1  11.63  0.24   0    1   0  1.07  1.0  \n",
       "ECO08137 ...   5958  4373.9   1  10.84  0.67   0    1   0  1.15  1.0  \n",
       "ECO00569 ...    552  4491.7   1  10.87  0.74   0    1   0  1.15  1.0  \n",
       "ECO10139 ...   7240  6151.0   1  11.06  0.57   1    2   0  1.10  1.0  \n",
       "\n",
       "[5 rows x 21 columns]"
      ]
     },
     "execution_count": 2,
     "metadata": {},
     "output_type": "execute_result"
    }
   ],
   "source": [
    "eco_columns = ['RAdeg', 'DEdeg', 'cz', 'rMag', 'logM', 'u-r', 'u-J', 'R50', 'R90', 'M', 'FM', \n",
    "               'Grp', 'Grpcz', 'FC', 'logMh', 'Den', 'FA', 'FHI', 'FG', 'CCr', 'CCb']\n",
    "\n",
    "df = pd.read_csv(os.path.join(root_dir, 'data', 'eco_dr1.txt'),\n",
    "                 delim_whitespace=True, skiprows=56, index_col=0,\n",
    "                 names=eco_columns)\n",
    "\n",
    "df.head()"
   ]
  },
  {
   "cell_type": "markdown",
   "metadata": {},
   "source": [
    "### Relevant parameters\n",
    "All of these galaxies are pretty nearby, so we don't need to care about things like their positions or redshift. Absolute $r$ magnitude, stellar mass, etc. are useful though."
   ]
  },
  {
   "cell_type": "markdown",
   "metadata": {},
   "source": [
    "Some morphologies aren't correct (\"-\"), and some $u-r$, $u-J$, $R90$ appear to be outliers or missing values.\n",
    "Now we'll visualize the parameter range of everything (except morphology). "
   ]
  },
  {
   "cell_type": "code",
   "execution_count": 3,
   "metadata": {
    "collapsed": false,
    "scrolled": false
   },
   "outputs": [
    {
     "data": {
      "image/png": "[encoded data removed]",
      "text/plain": [
       "<matplotlib.figure.Figure at 0x7f815c1faad0>"
      ]
     },
     "metadata": {},
     "output_type": "display_data"
    }
   ],
   "source": [
    "df = pd.read_csv(os.path.join(root_dir, 'data', 'eco_dr1.txt'),\n",
    "                 delim_whitespace=True, skiprows=56, index_col=0,\n",
    "                 names=eco_columns)\n",
    "\n",
    "features = ['rMag', 'logM', 'u-r', 'u-J', 'R50', 'R90', 'M']\n",
    "\n",
    "# remove unclassified morphologies\n",
    "df = df[df.M != '-']\n",
    "\n",
    "# remove unphysical stuff\n",
    "df = df[(df['u-r'] > -50) & (df['u-J'] > -10) & (df['u-J'] < 10) & (df['R90'] > 0)]\n",
    "\n",
    "# make the sample mass-complete (logM > 8.75)\n",
    "df = df[df['logM'] > 8.75]\n",
    "\n",
    "# change morphology to the mapping 0: \"E\" and 1: \"L\"\n",
    "df['M'] = map(lambda m: 0 if m == 'E' else 1, df['M'])\n",
    "\n",
    "#X = df[features].as_matrix()\n",
    "#y = df[target].as_matrix()[:, np.newaxis]\n",
    "\n",
    "fig, axes = plt.subplots(2, 3, figsize=(8, 4), dpi=120, sharey=True, sharex=False)\n",
    "\n",
    "for i, ax, feat in zip(range(6), axes.flat, features):\n",
    "    ax.hist(df.iloc[:, i], bins=20)\n",
    "    \n",
    "    ax.set_xlabel(feat)\n",
    "    ax.set_yscale('log')\n",
    "    \n",
    "fig.tight_layout(h_pad=0.1, w_pad=0.05)"
   ]
  },
  {
   "cell_type": "markdown",
   "metadata": {},
   "source": [
    "### A simple neural network\n",
    "Let's make a two-layer, fully connected network using `tflearn` (basically a simplified `tensorflow`). But since I have no idea what will work on my laptop, let's just take 500 random data points. Can we predict morphology from this?"
   ]
  },
  {
   "cell_type": "code",
   "execution_count": 42,
   "metadata": {
    "collapsed": false
   },
   "outputs": [],
   "source": [
    "X = df[['rMag', 'logM', 'u-r', 'u-J', 'R50', 'R90']].as_matrix()\n",
    "y = df[['M']].as_matrix()\n",
    "\n",
    "permutation = np.random.permutation(len(y))\n",
    "\n",
    "X_train = X[permutation][:500]\n",
    "y_train = y[permutation][:500]"
   ]
  },
  {
   "cell_type": "code",
   "execution_count": 44,
   "metadata": {
    "collapsed": false,
    "scrolled": false
   },
   "outputs": [
    {
     "name": "stdout",
     "output_type": "stream",
     "text": [
      "Training Step: 2500  | total loss: \u001b[1m\u001b[32m0.24602\u001b[0m\u001b[0m | time: 0.014s\n",
      "\u001b[2K\r",
      "| SGD | epoch: 500 | loss: 0.24602 - acc: 0.9145 -- iter: 500/500\n"
     ]
    }
   ],
   "source": [
    "ndata, ndim = X_train.shape\n",
    "nclass = 2\n",
    "Y_train = tflearn.data_utils.to_categorical(y_train.flat, nclass)\n",
    "\n",
    "with tf.Graph().as_default():\n",
    "    net = tflearn.input_data([None, ndim])\n",
    "    net = tflearn.fully_connected(net, 32, activation='sigmoid', weights_init='normal',\n",
    "                                  regularizer='L2', weight_decay=0.001)\n",
    "    net = tflearn.fully_connected(net, nclass, activation='sigmoid')\n",
    "    sgd = tflearn.SGD(learning_rate=0.1, lr_decay=0.5, decay_step=500)\n",
    "    net = tflearn.regression(net, optimizer=sgd, loss='categorical_crossentropy')\n",
    "\n",
    "    model = tflearn.DNN(net)\n",
    "    model.fit(X_train, Y_train, show_metric=True, batch_size=100, n_epoch=500, snapshot_epoch=False)"
   ]
  },
  {
   "cell_type": "code",
   "execution_count": 34,
   "metadata": {
    "collapsed": false
   },
   "outputs": [
    {
     "name": "stdout",
     "output_type": "stream",
     "text": [
      "The accuracy of our network is 0.9200\n",
      "The accuracy of random guessing is 0.5018\n"
     ]
    }
   ],
   "source": [
    "X_test = X[permutation][-500:]\n",
    "y_test = y[permutation][-500:]\n",
    "y_res = np.argmax(model.predict(X_test), axis=1)[:, np.newaxis]\n",
    "\n",
    "print('The accuracy of our network is {:.4f}'.format(np.mean(y_res == y_test, dtype=float)))\n",
    "print('The accuracy of random guessing is {:.4f}'.format(np.mean(np.random.randint(0, 2, 500) == y_test, dtype=float)))"
   ]
  },
  {
   "cell_type": "markdown",
   "metadata": {},
   "source": [
    "Well, that was not terrible. Note that I got marginally better results by **lowering the batch size**. Let's try a slightly different network:\n",
    "\n",
    "### A simple but deeper network"
   ]
  },
  {
   "cell_type": "code",
   "execution_count": 37,
   "metadata": {
    "collapsed": false,
    "scrolled": false
   },
   "outputs": [
    {
     "name": "stdout",
     "output_type": "stream",
     "text": [
      "Training Step: 79  | total loss: \u001b[1m\u001b[32m0.66059\u001b[0m\u001b[0m | time: 0.024s\n",
      "| Adam | epoch: 010 | loss: 0.66059 - acc: 0.6855 -- iter: 448/500\n",
      "Training Step: 80  | total loss: \u001b[1m\u001b[32m0.66165\u001b[0m\u001b[0m | time: 0.026s\n",
      "| Adam | epoch: 010 | loss: 0.66165 - acc: 0.6841 -- iter: 500/500\n",
      "--\n",
      "The accuracy of our network is 0.6800\n"
     ]
    }
   ],
   "source": [
    "tf.reset_default_graph() # needed because the namespace gets corrupted each time\n",
    "tflearn.init_graph(num_cores=4)\n",
    "\n",
    "permutation = np.random.permutation(len(y))\n",
    "\n",
    "X_train = X[permutation][:500]\n",
    "y_train = y[permutation][:500]\n",
    "\n",
    "net = tflearn.input_data(shape=[None, ndim])\n",
    "net = tflearn.fully_connected(net, 128)\n",
    "net = tflearn.fully_connected(net, 64)\n",
    "net = tflearn.fully_connected(net, 32)\n",
    "net = tflearn.fully_connected(net, nclass, activation='relu')\n",
    "net = tflearn.regression(net, optimizer='adam', loss='binary_crossentropy')\n",
    "\n",
    "model = tflearn.DNN(net)\n",
    "model.fit(X_train, Y_train, show_metric=True)\n",
    "\n",
    "X_test = X[permutation][-500:]\n",
    "y_test = y[permutation][-500:]\n",
    "y_res = np.argmax(model.predict(X_test), axis=1)[:, np.newaxis]\n",
    "print('The accuracy of our network is {:.4f}'.format(np.mean(y_res == y_test, dtype=float)))"
   ]
  },
  {
   "cell_type": "markdown",
   "metadata": {},
   "source": [
    "It actually seems like our original two layer network was better.\n",
    "\n",
    "### Back to the simple network"
   ]
  },
  {
   "cell_type": "code",
   "execution_count": 57,
   "metadata": {
    "collapsed": false
   },
   "outputs": [
    {
     "name": "stdout",
     "output_type": "stream",
     "text": [
      "Training Step: 2500  | total loss: \u001b[1m\u001b[32m0.31616\u001b[0m\u001b[0m | time: 0.010s\n",
      "\u001b[2K\r",
      "| SGD | epoch: 500 | loss: 0.31616 - acc: 0.8806 -- iter: 500/500\n"
     ]
    }
   ],
   "source": [
    "permutation = np.random.permutation(len(y))\n",
    "\n",
    "X_train = X[permutation][:500]\n",
    "y_train = y[permutation][:500]\n",
    "\n",
    "ndata, ndim = X_train.shape\n",
    "nclass = 2\n",
    "Y_train = tflearn.data_utils.to_categorical(y_train.flat, nclass)\n",
    "\n",
    "with tf.Graph().as_default():\n",
    "    net = tflearn.input_data([None, ndim])\n",
    "    net = tflearn.fully_connected(net, 32, activation='sigmoid', weights_init='normal',\n",
    "                                  regularizer='L2', weight_decay=0.001)\n",
    "    net = tflearn.fully_connected(net, nclass, activation='sigmoid')\n",
    "    sgd = tflearn.SGD(learning_rate=0.1, lr_decay=0.5, decay_step=500)\n",
    "    net = tflearn.regression(net, optimizer=sgd, loss='categorical_crossentropy')\n",
    "\n",
    "    model = tflearn.DNN(net)\n",
    "    model.fit(X_train, Y_train, show_metric=True, batch_size=100, n_epoch=500, snapshot_epoch=False)"
   ]
  },
  {
   "cell_type": "code",
   "execution_count": null,
   "metadata": {
    "collapsed": true
   },
   "outputs": [],
   "source": []
  }
 ],
 "metadata": {
  "kernelspec": {
   "display_name": "Python 2",
   "language": "python",
   "name": "python2"
  },
  "language_info": {
   "codemirror_mode": {
    "name": "ipython",
    "version": 2
   },
   "file_extension": ".py",
   "mimetype": "text/x-python",
   "name": "python",
   "nbconvert_exporter": "python",
   "pygments_lexer": "ipython2",
   "version": "2.7.13"
  }
 },
 "nbformat": 4,
 "nbformat_minor": 2
}
