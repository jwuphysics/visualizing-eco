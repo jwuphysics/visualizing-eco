{
 "cells": [
  {
   "cell_type": "markdown",
   "metadata": {},
   "source": [
    "I'm constantly looking for new ways to visualize data. In this exercise, I'll be comparing different galaxy morphologies (categorical data) against some other parameters in the ECO data set."
   ]
  },
  {
   "cell_type": "code",
   "execution_count": 4,
   "metadata": {
    "collapsed": true
   },
   "outputs": [],
   "source": [
    "import numpy as np\n",
    "import matplotlib.pyplot as plt\n",
    "import os\n",
    "import pandas as pd\n",
    "\n",
    "root_dir = os.path.abspath(os.path.join(os.getcwd(), '..'))\n",
    "\n",
    "%matplotlib inline"
   ]
  },
  {
   "cell_type": "code",
   "execution_count": 10,
   "metadata": {
    "collapsed": false
   },
   "outputs": [
    {
     "data": {
      "text/html": [
       "<div>\n",
       "<style>\n",
       "    .dataframe thead tr:only-child th {\n",
       "        text-align: right;\n",
       "    }\n",
       "\n",
       "    .dataframe thead th {\n",
       "        text-align: left;\n",
       "    }\n",
       "\n",
       "    .dataframe tbody tr th {\n",
       "        vertical-align: top;\n",
       "    }\n",
       "</style>\n",
       "<table border=\"1\" class=\"dataframe\">\n",
       "  <thead>\n",
       "    <tr style=\"text-align: right;\">\n",
       "      <th></th>\n",
       "      <th>RAdeg</th>\n",
       "      <th>DEdeg</th>\n",
       "      <th>cz</th>\n",
       "      <th>rMag</th>\n",
       "      <th>logM</th>\n",
       "      <th>u-r</th>\n",
       "      <th>u-J</th>\n",
       "      <th>R50</th>\n",
       "      <th>R90</th>\n",
       "      <th>M</th>\n",
       "      <th>...</th>\n",
       "      <th>Grp</th>\n",
       "      <th>Grpcz</th>\n",
       "      <th>FC</th>\n",
       "      <th>logMh</th>\n",
       "      <th>Den</th>\n",
       "      <th>FA</th>\n",
       "      <th>FHI</th>\n",
       "      <th>FG</th>\n",
       "      <th>CCr</th>\n",
       "      <th>CCb</th>\n",
       "    </tr>\n",
       "  </thead>\n",
       "  <tbody>\n",
       "    <tr>\n",
       "      <th>ECO12079</th>\n",
       "      <td>130.065</td>\n",
       "      <td>23.375</td>\n",
       "      <td>7230.9</td>\n",
       "      <td>-18.80</td>\n",
       "      <td>8.91</td>\n",
       "      <td>0.88</td>\n",
       "      <td>2.06</td>\n",
       "      <td>3.5</td>\n",
       "      <td>8.9</td>\n",
       "      <td>L</td>\n",
       "      <td>...</td>\n",
       "      <td>8480</td>\n",
       "      <td>7230.9</td>\n",
       "      <td>1</td>\n",
       "      <td>11.02</td>\n",
       "      <td>0.19</td>\n",
       "      <td>0</td>\n",
       "      <td>1</td>\n",
       "      <td>0</td>\n",
       "      <td>1.14</td>\n",
       "      <td>1.0</td>\n",
       "    </tr>\n",
       "    <tr>\n",
       "      <th>ECO02120</th>\n",
       "      <td>130.095</td>\n",
       "      <td>23.539</td>\n",
       "      <td>3534.8</td>\n",
       "      <td>-20.82</td>\n",
       "      <td>10.23</td>\n",
       "      <td>1.31</td>\n",
       "      <td>3.31</td>\n",
       "      <td>16.2</td>\n",
       "      <td>34.2</td>\n",
       "      <td>L</td>\n",
       "      <td>...</td>\n",
       "      <td>1918</td>\n",
       "      <td>3534.8</td>\n",
       "      <td>1</td>\n",
       "      <td>11.63</td>\n",
       "      <td>0.24</td>\n",
       "      <td>0</td>\n",
       "      <td>1</td>\n",
       "      <td>0</td>\n",
       "      <td>1.07</td>\n",
       "      <td>1.0</td>\n",
       "    </tr>\n",
       "    <tr>\n",
       "      <th>ECO08137</th>\n",
       "      <td>130.106</td>\n",
       "      <td>18.316</td>\n",
       "      <td>4373.9</td>\n",
       "      <td>-17.87</td>\n",
       "      <td>8.95</td>\n",
       "      <td>1.84</td>\n",
       "      <td>3.42</td>\n",
       "      <td>4.1</td>\n",
       "      <td>13.6</td>\n",
       "      <td>E</td>\n",
       "      <td>...</td>\n",
       "      <td>5958</td>\n",
       "      <td>4373.9</td>\n",
       "      <td>1</td>\n",
       "      <td>10.84</td>\n",
       "      <td>0.67</td>\n",
       "      <td>0</td>\n",
       "      <td>1</td>\n",
       "      <td>0</td>\n",
       "      <td>1.15</td>\n",
       "      <td>1.0</td>\n",
       "    </tr>\n",
       "    <tr>\n",
       "      <th>ECO00569</th>\n",
       "      <td>130.113</td>\n",
       "      <td>18.574</td>\n",
       "      <td>4491.7</td>\n",
       "      <td>-18.03</td>\n",
       "      <td>8.81</td>\n",
       "      <td>0.76</td>\n",
       "      <td>1.97</td>\n",
       "      <td>12.0</td>\n",
       "      <td>30.7</td>\n",
       "      <td>L</td>\n",
       "      <td>...</td>\n",
       "      <td>552</td>\n",
       "      <td>4491.7</td>\n",
       "      <td>1</td>\n",
       "      <td>10.87</td>\n",
       "      <td>0.74</td>\n",
       "      <td>0</td>\n",
       "      <td>1</td>\n",
       "      <td>0</td>\n",
       "      <td>1.15</td>\n",
       "      <td>1.0</td>\n",
       "    </tr>\n",
       "    <tr>\n",
       "      <th>ECO10139</th>\n",
       "      <td>130.126</td>\n",
       "      <td>27.631</td>\n",
       "      <td>6151.0</td>\n",
       "      <td>-18.99</td>\n",
       "      <td>9.23</td>\n",
       "      <td>1.18</td>\n",
       "      <td>2.30</td>\n",
       "      <td>13.4</td>\n",
       "      <td>27.7</td>\n",
       "      <td>L</td>\n",
       "      <td>...</td>\n",
       "      <td>7240</td>\n",
       "      <td>6151.0</td>\n",
       "      <td>1</td>\n",
       "      <td>11.06</td>\n",
       "      <td>0.57</td>\n",
       "      <td>1</td>\n",
       "      <td>2</td>\n",
       "      <td>0</td>\n",
       "      <td>1.10</td>\n",
       "      <td>1.0</td>\n",
       "    </tr>\n",
       "  </tbody>\n",
       "</table>\n",
       "<p>5 rows × 21 columns</p>\n",
       "</div>"
      ],
      "text/plain": [
       "            RAdeg   DEdeg      cz   rMag   logM   u-r   u-J   R50   R90  M  \\\n",
       "ECO12079  130.065  23.375  7230.9 -18.80   8.91  0.88  2.06   3.5   8.9  L   \n",
       "ECO02120  130.095  23.539  3534.8 -20.82  10.23  1.31  3.31  16.2  34.2  L   \n",
       "ECO08137  130.106  18.316  4373.9 -17.87   8.95  1.84  3.42   4.1  13.6  E   \n",
       "ECO00569  130.113  18.574  4491.7 -18.03   8.81  0.76  1.97  12.0  30.7  L   \n",
       "ECO10139  130.126  27.631  6151.0 -18.99   9.23  1.18  2.30  13.4  27.7  L   \n",
       "\n",
       "         ...    Grp   Grpcz  FC  logMh   Den  FA  FHI  FG   CCr  CCb  \n",
       "ECO12079 ...   8480  7230.9   1  11.02  0.19   0    1   0  1.14  1.0  \n",
       "ECO02120 ...   1918  3534.8   1  11.63  0.24   0    1   0  1.07  1.0  \n",
       "ECO08137 ...   5958  4373.9   1  10.84  0.67   0    1   0  1.15  1.0  \n",
       "ECO00569 ...    552  4491.7   1  10.87  0.74   0    1   0  1.15  1.0  \n",
       "ECO10139 ...   7240  6151.0   1  11.06  0.57   1    2   0  1.10  1.0  \n",
       "\n",
       "[5 rows x 21 columns]"
      ]
     },
     "execution_count": 10,
     "metadata": {},
     "output_type": "execute_result"
    }
   ],
   "source": [
    "eco_columns = ['RAdeg', 'DEdeg', 'cz', 'rMag', 'logM', 'u-r', 'u-J', 'R50', 'R90', 'M', 'FM', \n",
    "               'Grp', 'Grpcz', 'FC', 'logMh', 'Den', 'FA', 'FHI', 'FG', 'CCr', 'CCb']\n",
    "\n",
    "df = pd.read_csv(os.path.join(root_dir, 'data', 'eco_dr1.txt'),\n",
    "                 delim_whitespace=True, skiprows=56, index_col=0,\n",
    "                 names=eco_columns)\n",
    "\n",
    "df.head()"
   ]
  },
  {
   "cell_type": "markdown",
   "metadata": {},
   "source": [
    "Let's compare morphology, u-J color, and density."
   ]
  },
  {
   "cell_type": "code",
   "execution_count": 25,
   "metadata": {
    "collapsed": false
   },
   "outputs": [
    {
     "data": {
      "text/plain": [
       "M\n",
       "E    Axes(0.125,0.125;0.775x0.755)\n",
       "L    Axes(0.125,0.125;0.775x0.755)\n",
       "dtype: object"
      ]
     },
     "execution_count": 25,
     "metadata": {},
     "output_type": "execute_result"
    },
    {
     "data": {
      "image/png": "[encoded data removed]",
      "text/plain": [
       "<matplotlib.figure.Figure at 0x7ff4e49c6150>"
      ]
     },
     "metadata": {},
     "output_type": "display_data"
    },
    {
     "data": {
      "image/png": "[encoded data removed]",
      "text/plain": [
       "<matplotlib.figure.Figure at 0x7ff4e4a271d0>"
      ]
     },
     "metadata": {},
     "output_type": "display_data"
    }
   ],
   "source": [
    "morphology = df[df.M != '-'].groupby('M')[['u-J', 'Den']]\n",
    "morphology.plot()"
   ]
  },
  {
   "cell_type": "code",
   "execution_count": null,
   "metadata": {
    "collapsed": true
   },
   "outputs": [],
   "source": []
  }
 ],
 "metadata": {
  "kernelspec": {
   "display_name": "Python 2",
   "language": "python",
   "name": "python2"
  },
  "language_info": {
   "codemirror_mode": {
    "name": "ipython",
    "version": 2
   },
   "file_extension": ".py",
   "mimetype": "text/x-python",
   "name": "python",
   "nbconvert_exporter": "python",
   "pygments_lexer": "ipython2",
   "version": "2.7.13"
  }
 },
 "nbformat": 4,
 "nbformat_minor": 2
}
